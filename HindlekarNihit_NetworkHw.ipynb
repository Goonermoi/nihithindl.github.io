{
 "cells": [
  {
   "cell_type": "code",
   "execution_count": 1,
   "metadata": {},
   "outputs": [],
   "source": [
    "import json"
   ]
  },
  {
   "cell_type": "code",
   "execution_count": 2,
   "metadata": {},
   "outputs": [],
   "source": [
    "films = json.load(open(\"shared/sp18-is590dv/data/star_wars/films.json\"))"
   ]
  },
  {
   "cell_type": "code",
   "execution_count": 3,
   "metadata": {},
   "outputs": [
    {
     "name": "stdout",
     "output_type": "stream",
     "text": [
      "dict_keys(['starships', 'edited', 'vehicles', 'planets', 'producer', 'title', 'created', 'episode_id', 'director', 'release_date', 'opening_crawl', 'characters', 'species'])\n",
      "dict_keys(['starships', 'edited', 'vehicles', 'planets', 'producer', 'title', 'created', 'episode_id', 'director', 'release_date', 'opening_crawl', 'characters', 'species'])\n",
      "dict_keys(['starships', 'edited', 'vehicles', 'planets', 'producer', 'title', 'created', 'episode_id', 'director', 'release_date', 'opening_crawl', 'characters', 'species'])\n",
      "dict_keys(['starships', 'edited', 'vehicles', 'planets', 'producer', 'title', 'created', 'episode_id', 'director', 'release_date', 'opening_crawl', 'characters', 'species'])\n",
      "dict_keys(['starships', 'edited', 'vehicles', 'planets', 'producer', 'title', 'created', 'episode_id', 'director', 'release_date', 'opening_crawl', 'characters', 'species'])\n",
      "dict_keys(['starships', 'edited', 'vehicles', 'planets', 'producer', 'title', 'created', 'episode_id', 'director', 'release_date', 'opening_crawl', 'characters', 'species'])\n"
     ]
    }
   ],
   "source": [
    "for film in films:\n",
    "    print(film['fields'].keys())"
   ]
  },
  {
   "cell_type": "code",
   "execution_count": 4,
   "metadata": {},
   "outputs": [],
   "source": [
    "char_input = json.load(open(\"shared/sp18-is590dv/data/star_wars/people.json\"))"
   ]
  },
  {
   "cell_type": "code",
   "execution_count": 5,
   "metadata": {},
   "outputs": [],
   "source": [
    "characters ={}\n",
    "for character in char_input:\n",
    "    characters[character['pk']] = character[\"fields\"]"
   ]
  },
  {
   "cell_type": "code",
   "execution_count": 7,
   "metadata": {},
   "outputs": [],
   "source": [
    "import bqplot"
   ]
  },
  {
   "cell_type": "code",
   "execution_count": 8,
   "metadata": {},
   "outputs": [],
   "source": [
    "chars = [\"Boba Fett\", \"Yoda\", \"Jabba Desilijic Tiure\", \"Darth Vader\", \"Obi-Wan Kenobi\",\n",
    "         \"Beru Whitesun lars\", \"Mon Mothma\"]"
   ]
  },
  {
   "cell_type": "code",
   "execution_count": 9,
   "metadata": {},
   "outputs": [],
   "source": [
    "import pandas as pd"
   ]
  },
  {
   "cell_type": "code",
   "execution_count": 10,
   "metadata": {},
   "outputs": [
    {
     "name": "stdout",
     "output_type": "stream",
     "text": [
      "A New Hope\n",
      "Darth Vader\n",
      "Beru Whitesun lars\n",
      "Obi-Wan Kenobi\n",
      "Jabba Desilijic Tiure\n",
      "\n",
      "The Empire Strikes Back\n",
      "Darth Vader\n",
      "Obi-Wan Kenobi\n",
      "Yoda\n",
      "Boba Fett\n",
      "\n",
      "Return of the Jedi\n",
      "Darth Vader\n",
      "Obi-Wan Kenobi\n",
      "Jabba Desilijic Tiure\n",
      "Yoda\n",
      "Boba Fett\n",
      "Mon Mothma\n",
      "\n",
      "The Phantom Menace\n",
      "Obi-Wan Kenobi\n",
      "Jabba Desilijic Tiure\n",
      "Yoda\n",
      "\n",
      "Attack of the Clones\n",
      "Beru Whitesun lars\n",
      "Obi-Wan Kenobi\n",
      "Yoda\n",
      "Boba Fett\n",
      "\n",
      "Revenge of the Sith\n",
      "Darth Vader\n",
      "Beru Whitesun lars\n",
      "Obi-Wan Kenobi\n",
      "Yoda\n",
      "\n"
     ]
    }
   ],
   "source": [
    "dict = {}\n",
    "for film in films:\n",
    "    film_chars = film[\"fields\"][\"characters\"]\n",
    "    print(film[\"fields\"][\"title\"])\n",
    "    for character in film_chars:\n",
    "        if characters[character][\"name\"] in chars: print(characters[character][\"name\"])\n",
    "    print()"
   ]
  },
  {
   "cell_type": "code",
   "execution_count": 11,
   "metadata": {},
   "outputs": [
    {
     "data": {
      "application/vnd.jupyter.widget-view+json": {
       "model_id": "b3f3d7ba25ee4e6989a68ae510cd5929",
       "version_major": 2,
       "version_minor": 0
      },
      "text/plain": [
       "Figure(fig_margin={'top': 60, 'bottom': 60, 'left': 60, 'right': 60}, layout=Layout(min_width='125px'), marks=…"
      ]
     },
     "metadata": {},
     "output_type": "display_data"
    },
    {
     "name": "stdout",
     "output_type": "stream",
     "text": [
      "{'event': 'element_click', 'data': {'label': 'Yoda', 'media': 'Star Wars', 'label_display': 'center', 'shape': 'circle', 'shape_attrs': {'r': 15}, 'value': None, 'index': 1, 'weight': 42, 'x': 369.5027696336717, 'y': 160.56314928430487, 'px': 369.5027696336717, 'py': 160.56314928430487, 'fixed': 0}}\n"
     ]
    }
   ],
   "source": [
    "\n",
    "dict = {}\n",
    "node_data = []\n",
    "for i in chars:\n",
    "    dict = {\"label\": i , \"media\": \"Star Wars\"}\n",
    "    node_data.append(dict.copy())\n",
    "\n",
    "    \n",
    "name1 = []\n",
    "name2 = []\n",
    "link_data = []\n",
    "for film in films:\n",
    "    film_chars = film[\"fields\"][\"characters\"]\n",
    "    for character in film_chars:\n",
    "        name1 = characters[character][\"name\"]\n",
    "        if name1 not in chars: continue\n",
    "        for character in film_chars:\n",
    "            name2 = characters[character][\"name\"]\n",
    "            if name2 not in chars: continue\n",
    "            link_data.append({'source': chars.index(name1), 'target': chars.index(name2)})\n",
    "          \n",
    "\n",
    "tooltip = bqplot.Tooltip(fields = [\"label\", \"media\"])\n",
    "graph = bqplot.Graph(node_data=node_data, link_data=link_data, tooltip = tooltip,\n",
    "                    )\n",
    "\n",
    "fig = bqplot.Figure(marks = [graph])\n",
    "display(fig)"
   ]
  },
  {
   "cell_type": "code",
   "execution_count": 12,
   "metadata": {},
   "outputs": [],
   "source": [
    "def say_hello(obj,label):\n",
    "    print(label)\n",
    "\n",
    "graph.on_element_click(say_hello)"
   ]
  },
  {
   "cell_type": "code",
   "execution_count": null,
   "metadata": {},
   "outputs": [],
   "source": []
  }
 ],
 "metadata": {
  "kernelspec": {
   "display_name": "Python 3",
   "language": "python",
   "name": "python3"
  },
  "language_info": {
   "codemirror_mode": {
    "name": "ipython",
    "version": 3
   },
   "file_extension": ".py",
   "mimetype": "text/x-python",
   "name": "python",
   "nbconvert_exporter": "python",
   "pygments_lexer": "ipython3",
   "version": "3.6.6"
  }
 },
 "nbformat": 4,
 "nbformat_minor": 2
}
